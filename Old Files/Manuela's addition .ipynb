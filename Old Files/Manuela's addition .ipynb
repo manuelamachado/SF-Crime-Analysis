{
 "cells": [
  {
   "cell_type": "code",
   "execution_count": null,
   "metadata": {
    "collapsed": true
   },
   "outputs": [],
   "source": [
    "#Creating the line chart\n",
    "\n",
    "#define x-axis\n",
    "x_axis = [1,2,3,4,5,6,7,8,9,10,11,12]\n",
    "x_limit = 13\n",
    "plt.figure(figsize=(10,7))\n",
    "\n",
    "#Define each year\n",
    "\n",
    "fig, ax = plt.subplots()\n",
    "\n",
    "ax.fill(x_axis, crime_monthly_2[\"2011\"], color=\"gray\", ls=\"dashed\", linewidth=1, alpha=0.5)\n",
    "\n",
    "year_2016 = plt.plot(x_axis, crime_monthly_2[\"2016\"], marker=\"^\", color=\"salmon\", ls=\"dashed\", linewidth=1, alpha=1)\n",
    "\n",
    "year_2017 = plt.plot(x_axis, crime_monthly_2[\"2017\"], marker=\"s\", color=\"orangered\", ls=\"dashed\", linewidth=1, alpha=1)\n",
    "\n",
    "\n",
    "#Axes limits\n",
    "plt.ylim(9500, 14000)\n",
    "plt.xlim(0, 13)\n",
    "\n",
    "#Axes and Chart Labels\n",
    "plt.title(\"Trends of Crime over the last 3 years v base year (2011)\", fontsize=8, weight='bold')\n",
    "plt.ylabel(\"Volume of Crime\", fontsize=8)\n",
    "plt.xticks(1+np.arange(12), calendar.month_name[1:13], rotation=40)\n",
    "plt.grid(linestyle=\"dashed\")\n",
    "\n",
    "# Save the figure\n",
    "plt.savefig('Trends of Crime over the last 2 years v base year (2011).png')\n",
    "\n",
    "#Chart Legend \n",
    "plt.legend(bbox_to_anchor = (1,1), title = 'Years') \n",
    "plt.show()\n",
    "\n"
   ]
  },
  {
   "cell_type": "code",
   "execution_count": null,
   "metadata": {
    "collapsed": true
   },
   "outputs": [],
   "source": [
    "observed_component = result.observed\n",
    "observed_component.shape\n",
    "plt.plot(observed_component, color=\"coral\", ls=\"dashed\", linewidth=0.5, alpha=1)\n",
    "\n",
    "plt.title(\"Observed Component\", fontsize=16, weight='bold')\n",
    "plt.ylabel(\"observed values\", fontsize=12)\n",
    "plt.show()"
   ]
  },
  {
   "cell_type": "code",
   "execution_count": null,
   "metadata": {
    "collapsed": true
   },
   "outputs": [],
   "source": [
    "resid_component = result.resid\n",
    "resid_component.shape\n",
    "plt.plot(resid_component, color=\"coral\", ls=\"dashed\", linewidth=0.5, alpha=1)\n",
    "\n",
    "plt.title(\"Resid Component\", fontsize=16, weight='bold')\n",
    "plt.ylabel(\"resid values\", fontsize=12)\n",
    "plt.show()"
   ]
  },
  {
   "cell_type": "code",
   "execution_count": null,
   "metadata": {
    "collapsed": true
   },
   "outputs": [],
   "source": [
    "trend_component = result.trend\n",
    "trend_component.shape\n",
    "plt.plot(trend_component, color=\"coral\", ls=\"dashed\", linewidth=0.5, alpha=1)\n",
    "\n",
    "plt.title(\"Trend Component\", fontsize=16, weight='bold')\n",
    "plt.ylabel(\"trend values\", fontsize=12)\n",
    "plt.show()"
   ]
  },
  {
   "cell_type": "code",
   "execution_count": null,
   "metadata": {
    "collapsed": true
   },
   "outputs": [],
   "source": [
    "seasonal_component = result.seasonal\n",
    "seasonal_component.shape\n",
    "plt.plot(seasonal_component, color=\"coral\", ls=\"dashed\", linewidth=0.5, alpha=1)\n",
    "\n",
    "plt.title(\"Seasonal Component\", fontsize=16, weight='bold')\n",
    "plt.ylabel(\"seasonal values\", fontsize=12)\n",
    "plt.show()\n",
    "seasonal_DF = pd.DataFrame(seasonal_component)\n",
    "seasonal_DF.to_csv(\"seasonal.csv\")\n",
    "seasonal_DF.keys()"
   ]
  },
  {
   "cell_type": "code",
   "execution_count": null,
   "metadata": {
    "collapsed": true
   },
   "outputs": [],
   "source": [
    "seasonal_file = \"seasonal.csv\"\n",
    "seasonal_DF = pd.read_csv(seasonal_file)\n",
    "seasonal_DF.head(2)"
   ]
  },
  {
   "cell_type": "code",
   "execution_count": null,
   "metadata": {
    "collapsed": true
   },
   "outputs": [],
   "source": [
    "# Create a new columns for Year, Day and Month\n",
    "seasonal_DF[\"Day\"] = seasonal_DF[\"Date\"].str.rstrip('-').str.split('-').str[2]\n",
    "seasonal_DF[\"Month\"] = seasonal_DF[\"Date\"].str.rstrip('-').str.split('-').str[1]\n",
    "seasonal_DF[\"Year\"] = seasonal_DF[\"Date\"].str.rstrip('-').str.split('-').str[0]\n",
    " \n",
    "\n",
    "seasonal_DF = seasonal_DF.sort_values([\"Year\"], ascending=False)\n",
    "\n",
    "seasonal_DF.head(2)"
   ]
  },
  {
   "cell_type": "code",
   "execution_count": null,
   "metadata": {
    "collapsed": true
   },
   "outputs": [],
   "source": [
    "seasonal_df = seasonal_DF.groupby(['Year','Month'])\n",
    "seasonal_monthly_df = pd.DataFrame(seasonal_df[\"Crimes\"].mean())\n",
    "seasonal_monthly = seasonal_monthly_df.unstack(0)\n",
    "seasonal_monthly.head(2)\n",
    "seasonal_monthly.columns\n",
    "seasonal_monthly['Crimes'][\"2011\"]"
   ]
  },
  {
   "cell_type": "code",
   "execution_count": null,
   "metadata": {
    "collapsed": true
   },
   "outputs": [],
   "source": [
    "#Creating the line chart\n",
    "\n",
    "#define x-axis\n",
    "x_axis = [1,2,3,4,5,6,7,8,9,10,11,12]\n",
    "x_limit = 13\n",
    "plt.figure(figsize=(10,5))\n",
    "\n",
    "fig, ax = plt.subplots()\n",
    "ax.fill(x_axis, seasonal_monthly['Crimes'][\"2017\"], color=\"orangered\", ls=\"dashed\", linewidth=1, alpha=0.5)\n",
    "\n",
    "\n",
    "#Axes limits\n",
    "plt.ylim(0.9, 1.1)\n",
    "plt.xlim(0, 13)\n",
    "\n",
    "#Axes and Chart Labels\n",
    "plt.title(\"Monthly Seasonality over the year\", fontsize=14, weight='bold')\n",
    "plt.ylabel(\"seasonal values\", fontsize=14)\n",
    "plt.xticks(1+np.arange(12), calendar.month_name[1:13], rotation=40)\n",
    "#plt.grid(linestyle=\"dashed\")\n",
    "\n",
    "# Save the figure\n",
    "plt.savefig('Monthly Seasonality over the year.png')\n",
    "\n",
    "#Chart Legend \n",
    "#plt.legend(bbox_to_anchor = (1,1), title = 'Years') \n",
    "plt.show()\n",
    "\n",
    "\n"
   ]
  }
 ],
 "metadata": {
  "kernelspec": {
   "display_name": "Python [default]",
   "language": "python",
   "name": "python3"
  },
  "language_info": {
   "codemirror_mode": {
    "name": "ipython",
    "version": 3
   },
   "file_extension": ".py",
   "mimetype": "text/x-python",
   "name": "python",
   "nbconvert_exporter": "python",
   "pygments_lexer": "ipython3",
   "version": "3.6.3"
  }
 },
 "nbformat": 4,
 "nbformat_minor": 2
}
